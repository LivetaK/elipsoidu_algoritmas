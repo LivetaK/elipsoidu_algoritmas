{
 "cells": [
  {
   "cell_type": "code",
   "execution_count": 6,
   "id": "5bb1c7d2",
   "metadata": {},
   "outputs": [
    {
     "name": "stdout",
     "output_type": "stream",
     "text": [
      "[[0.]\n",
      " [0.]\n",
      " [0.]\n",
      " [0.]]\n",
      "Sprendinys rastas: [[0.]\n",
      " [0.]\n",
      " [0.]\n",
      " [0.]]\n"
     ]
    }
   ],
   "source": [
    "import numpy as np\n",
    "import math\n",
    "\n",
    "def bit_length(x):\n",
    "    return math.ceil(math.log2(abs(x) + 1)) + 1 if x != 0 else 1\n",
    "\n",
    "def h_matrix(n, L):\n",
    "    return np.eye(n) * 2 ** 2*L\n",
    "\n",
    "def constraint_violation(center):\n",
    "    for i, (a, b) in enumerate(constraints):\n",
    "        if float((a @ center)[0]) > b:\n",
    "            return i\n",
    "    return None\n",
    "\n",
    "def update(center, h, a, n):\n",
    "\n",
    "    Ha = h @ a\n",
    "    aHa = (a.T @ Ha)\n",
    "    denom = np.sqrt(aHa)\n",
    "    if denom < 1e-6:\n",
    "        return None, None\n",
    "    new_center = (center - (1 / (n + 1)) * Ha / denom)\n",
    "\n",
    "    outer = Ha @ Ha.T\n",
    "    new_h = (n**2 / (n**2 - 1)) * (h - (2 / (n + 1)) * outer / aHa)\n",
    "\n",
    "    return new_center, new_h\n",
    "\n",
    "\n",
    "raw_constraints = [\n",
    "    (np.array([-1, 1, -1, -1]), 8),\n",
    "    (np.array([2, 4, 0, 0]), 10),\n",
    "    (np.array([0, 0, 1, 1]), 3),\n",
    "    (np.array([-1, 0, 0, 0]), 0),\n",
    "    (np.array([0, -1, 0, 0]), 0),\n",
    "    (np.array([0, 0, -1, 0]), 0),\n",
    "    (np.array([0, 0, 0, -1]), 0)\n",
    "]\n",
    "\n",
    "L = max(bit_length(x) for a, b in raw_constraints for x in a.tolist() + [b])\n",
    "\n",
    "epsilon = 2 ** (-2 * L)\n",
    "constraints = [(a, b + epsilon) for a, b in raw_constraints]\n",
    "\n",
    "\n",
    "n =len(constraints[0][0])\n",
    "r = 10\n",
    "K = 16 * n * (n + 1) * L\n",
    "center = np.zeros((n, 1))\n",
    "print(center)\n",
    "h = h_matrix(n, L)\n",
    "\n",
    "for k in range(K):\n",
    "\n",
    "    i = constraint_violation(center)\n",
    "    if i is None:\n",
    "        print(\"Sprendinys rastas:\", center)\n",
    "        break\n",
    "    a = constraints[i][0].reshape(-1, 1)    \n",
    "    center, h = update(center, h, a, n)\n",
    "\n",
    "\n",
    "\n"
   ]
  }
 ],
 "metadata": {
  "kernelspec": {
   "display_name": "Python 3",
   "language": "python",
   "name": "python3"
  },
  "language_info": {
   "codemirror_mode": {
    "name": "ipython",
    "version": 3
   },
   "file_extension": ".py",
   "mimetype": "text/x-python",
   "name": "python",
   "nbconvert_exporter": "python",
   "pygments_lexer": "ipython3",
   "version": "3.9.13"
  }
 },
 "nbformat": 4,
 "nbformat_minor": 5
}
